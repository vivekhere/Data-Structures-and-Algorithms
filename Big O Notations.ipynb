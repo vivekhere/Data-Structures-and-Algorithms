{
 "cells": [
  {
   "cell_type": "markdown",
   "metadata": {},
   "source": [
    "# Big O Notations"
   ]
  },
  {
   "cell_type": "markdown",
   "metadata": {},
   "source": [
    "#### Big O Notation is a mathematical notation that describes the limiting behaviour of a function when the argument tends towards a particular value or infinity."
   ]
  },
  {
   "cell_type": "markdown",
   "metadata": {},
   "source": [
    "- Big O is used to describe the performance of an algorithm.\n",
    "- It determines if an algorithm is scalable or not i.e., it checks if the algorithm is going to scale well as the input grows really large."
   ]
  },
  {
   "cell_type": "markdown",
   "metadata": {},
   "source": [
    "## Time complexity"
   ]
  },
  {
   "cell_type": "markdown",
   "metadata": {},
   "source": [
    "### O(1)"
   ]
  },
  {
   "cell_type": "markdown",
   "metadata": {},
   "source": [
    "#### Algorithm that runs in constant time"
   ]
  },
  {
   "cell_type": "code",
   "execution_count": null,
   "metadata": {},
   "outputs": [],
   "source": [
    "public void log(int[] numbers) {\n",
    "    System.out.println(numbers[0]); // O(1)\n",
    "}"
   ]
  },
  {
   "cell_type": "markdown",
   "metadata": {},
   "source": [
    "- This method contains single operation.\n",
    "- It takes constant amount of time to run.\n",
    "- The runtime complexity is O(1).\n",
    "- The execution time can be different from one machine to another."
   ]
  },
  {
   "cell_type": "code",
   "execution_count": null,
   "metadata": {},
   "outputs": [],
   "source": [
    "public void log(int[] numbers) {\n",
    "    System.out.println(numbers[0]); // O(1)\n",
    "    System.out.println(numbers[0]); // O(1)\n",
    "}"
   ]
  },
  {
   "cell_type": "markdown",
   "metadata": {},
   "source": [
    "- This method contains 2 operations.\n",
    "- Both the operations take constant amount of time to run.\n",
    "- The runtime complexity is O(2). \n",
    "- When talking about runtime comeplexity we don't care about the number   of operations.\n",
    "- We just want to know how much an algorithm slows down when the input   grows larger.\n",
    "- So, whether we have more than one items in our numbers array, the method runs in contant   time.\n",
    "- Hence, the runtime complexity will be O(1)."
   ]
  },
  {
   "cell_type": "markdown",
   "metadata": {},
   "source": [
    "### O(n)"
   ]
  },
  {
   "cell_type": "markdown",
   "metadata": {},
   "source": [
    "#### Algorithm that runs in linear time"
   ]
  },
  {
   "cell_type": "code",
   "execution_count": null,
   "metadata": {},
   "outputs": [],
   "source": [
    "public void log(int[] numbers) {\n",
    "    for (int number : numbers) // O(n)\n",
    "        System.out.println(number);\n",
    "}  "
   ]
  },
  {
   "cell_type": "markdown",
   "metadata": {},
   "source": [
    "- Here, we have a loop which prints an element for each iteration.\n",
    "- The cost of this algorithm grows linearly and in direct corelation to  the size of the input.\n",
    "- Hence, the runtime complexity of this method is O(n) where n is the size of the input\n",
    "- This is same for all kinds of loops."
   ]
  },
  {
   "cell_type": "code",
   "execution_count": null,
   "metadata": {},
   "outputs": [],
   "source": [
    "public void log(int[] numbers) {\n",
    "    System.out.println(numbers[0]); // O(1)\n",
    "    for(int number : numbers) // O(n)\n",
    "        System.out.println(number);\n",
    "    System.out.println(numbers[0]); // O(1)    \n",
    "}  "
   ]
  },
  {
   "cell_type": "markdown",
   "metadata": {},
   "source": [
    "- Here, we have 2 operations which runs in O(1) and 1 operation which runs in O(n).\n",
    "- The runtime complexity is O(1 + n + 1) = O(2 + n).\n",
    "- But when using the big O notation we drop the constants because it will not have a significant impact on the algorithm if the size of the input is large.\n",
    "- The cost of the algorithm will still increase linearly.\n",
    "- Hence, the runtime complexity will be O(n)."
   ]
  },
  {
   "cell_type": "code",
   "execution_count": null,
   "metadata": {},
   "outputs": [],
   "source": [
    "public void log(int[] numbers) {\n",
    "    for(int number : numbers) // O(n)\n",
    "        System.out.println(number);\n",
    "    for(int number : numbers) // O(n)\n",
    "        System.out.println(number);\n",
    "}"
   ]
  },
  {
   "cell_type": "markdown",
   "metadata": {},
   "source": [
    "- Here we have two same loops which and each runs in O(n).\n",
    "- The runtime complexity is O(n + n) = O(2n).\n",
    "- Again we will drop the constant because all we need here is an approximation of the cost of this algorithm relative to it's input size.\n",
    "- It still represents a linear growth.\n",
    "- Hence, the runtime complexity is O(n)."
   ]
  },
  {
   "cell_type": "code",
   "execution_count": null,
   "metadata": {},
   "outputs": [],
   "source": [
    "public void log(int[] numbers, String[] names) {\n",
    "    for(int number : numbers) // O(n)\n",
    "        System.out.println(number);\n",
    "    for(String name : names) // O(m)\n",
    "        System.out.println(name);\n",
    "}"
   ]
  },
  {
   "cell_type": "markdown",
   "metadata": {},
   "source": [
    "- Here, we have a method with 2 parameters - array for numbers and array of names.\n",
    "- The first operation runs in O(n), where n is the size of numbers array.\n",
    "- The second operation runs in O(m), where m is the size of names array.\n",
    "- The runtime complexity is O(n + m);\n",
    "- Since, the runtime of this method increses linearly, we can simplyfy the runtime complexity as O(n)."
   ]
  },
  {
   "cell_type": "markdown",
   "metadata": {},
   "source": [
    "### O(n^2)"
   ]
  },
  {
   "cell_type": "markdown",
   "metadata": {},
   "source": [
    "#### Algorithm that runs in quadratic time"
   ]
  },
  {
   "cell_type": "code",
   "execution_count": null,
   "metadata": {},
   "outputs": [],
   "source": [
    "public void log(int[] numbers) {\n",
    "    for(int first : numbers) // O(n)\n",
    "        for(int second : numbers) // O(n)\n",
    "            System.out.print(first + \", \" + second);\n",
    "}"
   ]
  },
  {
   "cell_type": "markdown",
   "metadata": {},
   "source": [
    "- Here, we have nested loops.\n",
    "- Each loop runs in O(n).\n",
    "- The runtime complexity is O(n*n) or O(n^2)."
   ]
  },
  {
   "cell_type": "code",
   "execution_count": null,
   "metadata": {},
   "outputs": [],
   "source": [
    "public void log(int[] numbers) {\n",
    "    for(int number : numbers) // O(n)\n",
    "        System.out.println(number);\n",
    "    for(int first : numbers) // O(n)\n",
    "        for(int second : numbers) // O(n)\n",
    "            System.out.println(first + \", \" + second);\n",
    "}"
   ]
  },
  {
   "cell_type": "markdown",
   "metadata": {},
   "source": [
    "- Here, we have one more for loop which runs in O(n).\n",
    "- The runtime complexity of the method becomes O(n + n^2).\n",
    "- The square of a number is always greater than the number itself. So, n^2 always grows faster than n.\n",
    "- All we need here is an estimation not an actual value and so we can drop the n from the expression.\n",
    "- Hence, the runtime complexity is O(n^2)."
   ]
  },
  {
   "cell_type": "markdown",
   "metadata": {},
   "source": [
    "### O(log n)"
   ]
  },
  {
   "cell_type": "markdown",
   "metadata": {},
   "source": [
    "#### Algorithm that runs in logarithmic time"
   ]
  },
  {
   "cell_type": "markdown",
   "metadata": {},
   "source": [
    "### O(2^n)"
   ]
  },
  {
   "cell_type": "markdown",
   "metadata": {},
   "source": [
    "#### Algorithm that runs in exponential time"
   ]
  },
  {
   "cell_type": "markdown",
   "metadata": {},
   "source": [
    "## Space complexity"
   ]
  }
 ],
 "metadata": {
  "kernelspec": {
   "display_name": "Java",
   "language": "java",
   "name": "java"
  },
  "language_info": {
   "codemirror_mode": "java",
   "file_extension": ".jshell",
   "mimetype": "text/x-java-source",
   "name": "Java",
   "pygments_lexer": "java",
   "version": "14.0.1+7"
  }
 },
 "nbformat": 4,
 "nbformat_minor": 4
}
